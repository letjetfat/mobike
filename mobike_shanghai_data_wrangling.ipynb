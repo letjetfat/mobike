{
 "cells": [
  {
   "cell_type": "code",
   "execution_count": null,
   "metadata": {},
   "outputs": [],
   "source": [
    "#加载pandas库\n",
    "import pandas as pd"
   ]
  },
  {
   "cell_type": "code",
   "execution_count": null,
   "metadata": {},
   "outputs": [],
   "source": [
    "#读取CSV文件\n",
    "df = pd.read_csv('mobike_shanghai_sample_updated.csv',encoding='utf-8')"
   ]
  },
  {
   "cell_type": "code",
   "execution_count": null,
   "metadata": {},
   "outputs": [],
   "source": [
    "#查看头几行数据\n",
    "df.head()"
   ]
  },
  {
   "cell_type": "code",
   "execution_count": null,
   "metadata": {},
   "outputs": [],
   "source": [
    "#将df文件进行备份\n",
    "df_clean = df.copy()"
   ]
  },
  {
   "cell_type": "code",
   "execution_count": null,
   "metadata": {},
   "outputs": [],
   "source": [
    "#将track列拆开成多列\n",
    "df_clean = df_clean.join(df_clean['track'].str.split('#',expand=True))"
   ]
  },
  {
   "cell_type": "code",
   "execution_count": null,
   "metadata": {},
   "outputs": [],
   "source": [
    "#由于在长宽数据转换后会很大所以这里将删除start_location_x,start_location_y,end_location_x,end_location_y,track列\n",
    "df_clean.drop(labels=['start_location_x','start_location_y','end_location_x',\n",
    "                      'end_location_y','track'],axis=1, inplace=True)"
   ]
  },
  {
   "cell_type": "code",
   "execution_count": null,
   "metadata": {},
   "outputs": [],
   "source": [
    "#将宽数据转换成长数据\n",
    "df_clean = pd.melt(df_clean, id_vars=['orderid','bikeid','userid','start_time','end_time'],\n",
    "                  var_name='order',value_name='location')\n",
    "\n",
    "#将成对的x,y坐标拆分成两列\n",
    "df_clean = df_clean.join(df_clean['location'].str.split(',',expand=True))\n",
    "\n",
    "#将拆开的坐标列进行重新命名\n",
    "df_clean.rename(columns={0:'location_x',1:'location_y'},inplace=True)\n",
    "\n",
    "#删除具有空值的行\n",
    "df_clean.dropna(inplace=True)"
   ]
  },
  {
   "cell_type": "code",
   "execution_count": null,
   "metadata": {},
   "outputs": [],
   "source": [
    "#将清理好的数据导出到CSV文件,然后就可以在tableau中用清理后的数据进行可视化分析了\n",
    "df_clean.to_csv('mobike_ldata_clean.csv',encoding='utf-8')\n"
   ]
  },
  {
   "cell_type": "code",
   "execution_count": null,
   "metadata": {},
   "outputs": [],
   "source": []
  }
 ],
 "metadata": {
  "kernelspec": {
   "display_name": "Python 3",
   "language": "python",
   "name": "python3"
  },
  "language_info": {
   "codemirror_mode": {
    "name": "ipython",
    "version": 3
   },
   "file_extension": ".py",
   "mimetype": "text/x-python",
   "name": "python",
   "nbconvert_exporter": "python",
   "pygments_lexer": "ipython3",
   "version": "3.6.5"
  }
 },
 "nbformat": 4,
 "nbformat_minor": 2
}
